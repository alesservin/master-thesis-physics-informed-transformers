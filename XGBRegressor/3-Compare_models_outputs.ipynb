{
 "cells": [
  {
   "cell_type": "code",
   "execution_count": 1,
   "id": "1071024c-f4f4-487a-8633-25525972bfaa",
   "metadata": {},
   "outputs": [],
   "source": [
    "# # In case the Int Slider does not appear, run:\n",
    "# !pip install ipywidgets\n",
    "# !jupyter lab clean\n",
    "# # restart kernel"
   ]
  },
  {
   "cell_type": "code",
   "execution_count": 2,
   "id": "c93581c1-1f55-44a4-8e5c-f1b3205ebf20",
   "metadata": {
    "editable": true,
    "slideshow": {
     "slide_type": ""
    },
    "tags": []
   },
   "outputs": [],
   "source": [
    "import pandas as pd\n",
    "import ipywidgets as widgets\n",
    "from IPython.display import display\n",
    "import os\n",
    "import plotly.graph_objects as go\n",
    "import plotly.colors as pc"
   ]
  },
  {
   "cell_type": "code",
   "execution_count": 3,
   "id": "b80d934b-fad6-4837-8497-059c626f6be5",
   "metadata": {},
   "outputs": [],
   "source": [
    "# !pip list --not-required "
   ]
  },
  {
   "cell_type": "code",
   "execution_count": 4,
   "id": "0b9975f1-04b1-4d0b-9631-cd0d86d835b7",
   "metadata": {},
   "outputs": [],
   "source": [
    "# Define column names for plot\n",
    "columns_to_keep = [\"Time [s]\", \"SoC [%]\", \"Physics-and-XGBRegressor\", \"Physics\", \"XGBRegressor\"]    # All models results\n",
    "# columns_to_keep = [\"Time [s]\", \"SoC [%]\", \"Transformer\"]    # Only Transformer results\n",
    "# columns_to_keep = [\"Time [s]\", \"SoC [%]\", \"Physics-and-Transformer\", \"Physics\"]    # Physics and Transformers-And-Physics"
   ]
  },
  {
   "cell_type": "markdown",
   "id": "41d3ade6-9f77-4e51-abe9-9ac61d0cd2c8",
   "metadata": {},
   "source": [
    "# Define results for which dataset to display"
   ]
  },
  {
   "cell_type": "code",
   "execution_count": 5,
   "id": "1b0d2a97-cfd2-4eac-bafd-2de1784581e7",
   "metadata": {
    "editable": true,
    "slideshow": {
     "slide_type": ""
    },
    "tags": []
   },
   "outputs": [],
   "source": [
    "# 1. Dataset: Full trips\n",
    "dataset = \"results/\""
   ]
  },
  {
   "cell_type": "code",
   "execution_count": null,
   "id": "7e6dd9a8-6847-411f-abcd-d352767bcc5b",
   "metadata": {},
   "outputs": [],
   "source": []
  },
  {
   "cell_type": "markdown",
   "id": "df4dba14-371e-47a5-b745-fba028d77257",
   "metadata": {},
   "source": [
    "# List all experiment folders"
   ]
  },
  {
   "cell_type": "code",
   "execution_count": null,
   "id": "48785e21-8bd4-49ae-93a2-a23f35e2cd71",
   "metadata": {
    "editable": true,
    "slideshow": {
     "slide_type": ""
    },
    "tags": []
   },
   "outputs": [],
   "source": [
    "def list_directories(path):\n",
    "    directories = [f\"{path}/{d}\" for d in os.listdir(path) if os.path.isdir(os.path.join(path, d)) \n",
    "                   and \".ipynb_checkpoints\" not in d]\n",
    "    return directories"
   ]
  },
  {
   "cell_type": "code",
   "execution_count": 7,
   "id": "85c779aa-2cd6-4981-a3d0-71ebef0cdc0c",
   "metadata": {
    "editable": true,
    "slideshow": {
     "slide_type": ""
    },
    "tags": []
   },
   "outputs": [
    {
     "data": {
      "text/plain": [
       "['results//Delta approach, learning_rate=0.05, max_depth=5, subsample=0.6, colsample_bytree=0.6, gamma=0.3, Model=XGBRegressor']"
      ]
     },
     "execution_count": 7,
     "metadata": {},
     "output_type": "execute_result"
    }
   ],
   "source": [
    "experiments_paths = list_directories(dataset)\n",
    "experiments_paths"
   ]
  },
  {
   "cell_type": "code",
   "execution_count": null,
   "id": "532e2228-7612-4bc8-8730-787925d6af20",
   "metadata": {},
   "outputs": [],
   "source": []
  },
  {
   "cell_type": "markdown",
   "id": "f3e6db2c-a590-4e4e-962f-4fb54a43e697",
   "metadata": {},
   "source": [
    "# Unify results of all models in each experiment"
   ]
  },
  {
   "cell_type": "code",
   "execution_count": 8,
   "id": "f55c66e3-319e-432c-9c05-e72944727240",
   "metadata": {},
   "outputs": [],
   "source": [
    "def get_filepaths_with_extension(file_extension=\".csv\", directory=\".\"):\n",
    "    output = []\n",
    "    \n",
    "    for file in os.listdir(directory):  \n",
    "        # Check if the file has the required extension\n",
    "        if file.endswith(file_extension):\n",
    "            output.append(f\"{directory}/{file}\") \n",
    "            \n",
    "    return output"
   ]
  },
  {
   "cell_type": "markdown",
   "id": "bd4792d9-e98b-43bc-8054-d03b40686408",
   "metadata": {},
   "source": [
    "## List all files from first model found"
   ]
  },
  {
   "cell_type": "code",
   "execution_count": 9,
   "id": "53279df1-f842-4ca0-bfe4-90748df2b69e",
   "metadata": {},
   "outputs": [
    {
     "data": {
      "text/plain": [
       "'results//Delta approach, learning_rate=0.05, max_depth=5, subsample=0.6, colsample_bytree=0.6, gamma=0.3, Model=XGBRegressor/Physics/test_data_and_model_output'"
      ]
     },
     "execution_count": 9,
     "metadata": {},
     "output_type": "execute_result"
    }
   ],
   "source": [
    "first_model_path = list_directories(experiments_paths[0])[0]\n",
    "first_model_path += \"/test_data_and_model_output\"\n",
    "first_model_path"
   ]
  },
  {
   "cell_type": "code",
   "execution_count": 10,
   "id": "6a5ec1fd-466a-40e9-8046-798e1ac878d8",
   "metadata": {},
   "outputs": [
    {
     "data": {
      "text/plain": [
       "['file-0.csv',\n",
       " 'file-1.csv',\n",
       " 'file-2.csv',\n",
       " 'file-3.csv',\n",
       " 'file-4.csv',\n",
       " 'file-5.csv',\n",
       " 'file-6.csv',\n",
       " 'file-7.csv',\n",
       " 'file-8.csv',\n",
       " 'file-9.csv']"
      ]
     },
     "execution_count": 10,
     "metadata": {},
     "output_type": "execute_result"
    }
   ],
   "source": [
    "first_model_output_filenames = get_filepaths_with_extension(file_extension=\".csv\", directory=first_model_path)\n",
    "first_model_output_filenames = [path.split(\"/\")[-1] for path in first_model_output_filenames]    # keep only filename\n",
    "first_model_output_filenames"
   ]
  },
  {
   "cell_type": "markdown",
   "id": "9f219243-2c03-412b-b982-dd81d9c5e1a2",
   "metadata": {},
   "source": [
    "## Get and Concatenate results of all models of each experiment"
   ]
  },
  {
   "cell_type": "code",
   "execution_count": 11,
   "id": "53ffccf0-5f0f-4f12-a11e-2420082a92b4",
   "metadata": {},
   "outputs": [],
   "source": [
    "dict_experiments_results = {}"
   ]
  },
  {
   "cell_type": "code",
   "execution_count": null,
   "id": "70c1db55-7b58-4341-bf05-c067d3e35fcd",
   "metadata": {},
   "outputs": [],
   "source": []
  },
  {
   "cell_type": "code",
   "execution_count": 12,
   "id": "dc568fa7-a60b-408e-ba64-d1f8e6473611",
   "metadata": {},
   "outputs": [],
   "source": [
    "for experiment_path in experiments_paths:\n",
    "    # get all model directories\n",
    "    models_directories = list_directories(experiment_path)\n",
    "\n",
    "    models_output_directories = [f\"{model}/test_data_and_model_output\" for model in models_directories]    # add directory where models store their output\n",
    "\n",
    "    # get results from each model\n",
    "    experiment_result = []\n",
    "    for output_filename in first_model_output_filenames:    # iterate over each filename to make sure the comparison of the different models is correct\n",
    "        df = None\n",
    "        for models_output_directory in models_output_directories:    # iterate over the output directories of each model\n",
    "            csv_filepath = f\"{models_output_directory}/{output_filename}\"\n",
    "            df_new = pd.read_csv(csv_filepath, sep=\";\", encoding=\"ISO-8859-2\")\n",
    "\n",
    "            # if there is no dataframe stored yet\n",
    "            if df is None:\n",
    "                df = df_new.copy()\n",
    "            else: \n",
    "                df = pd.concat([df, df_new], axis=1)    # concatenating along columns \n",
    "\n",
    "        # keep only important columns for plots\n",
    "        df = df[columns_to_keep]    \n",
    "        # remove duplicated columns\n",
    "        df = df.loc[:,~df.columns.duplicated()]\n",
    "        \n",
    "        # print(df)\n",
    "        experiment_result.append(df)\n",
    "\n",
    "    experiment_name = experiment_path.split(\"/\")[-1]\n",
    "    dict_experiments_results[experiment_name] = experiment_result"
   ]
  },
  {
   "cell_type": "code",
   "execution_count": 13,
   "id": "deea1b10-62ec-471c-817f-7d5f04b56ae5",
   "metadata": {
    "scrolled": true
   },
   "outputs": [
    {
     "data": {
      "text/plain": [
       "{'Delta approach, learning_rate=0.05, max_depth=5, subsample=0.6, colsample_bytree=0.6, gamma=0.3, Model=XGBRegressor': [      Time [s]  SoC [%]  Physics-and-XGBRegressor    Physics  XGBRegressor\n",
       "  0          0.0     31.5                 31.506724  31.500000     44.934720\n",
       "  1          0.1     31.5                 31.506117  31.499394     44.934720\n",
       "  2          0.2     31.5                 31.505487  31.498764     44.934720\n",
       "  3          0.3     31.5                 31.504820  31.498097     44.934720\n",
       "  4          0.4     31.5                 31.504144  31.497421     44.934720\n",
       "  ...        ...      ...                       ...        ...           ...\n",
       "  9680     968.0     15.4                 14.534485  12.416475     31.464046\n",
       "  9681     968.1     15.4                 14.534229  12.416219     31.464046\n",
       "  9682     968.2     15.4                 14.533977  12.415967     31.464046\n",
       "  9683     968.3     15.4                 14.533701  12.415691     31.464046\n",
       "  9684     968.4     15.4                 14.533408  12.415398     31.464046\n",
       "  \n",
       "  [9685 rows x 5 columns],\n",
       "        Time [s]  SoC [%]  Physics-and-XGBRegressor    Physics  XGBRegressor\n",
       "  0          0.0     84.2                 84.121750  84.200000      83.88132\n",
       "  1          0.1     84.2                 84.121548  84.199798      83.88132\n",
       "  2          0.2     84.2                 84.121321  84.199570      83.91080\n",
       "  3          0.3     84.2                 84.121053  84.199303      83.93020\n",
       "  4          0.4     84.2                 84.120778  84.199028      83.93020\n",
       "  ...        ...      ...                       ...        ...           ...\n",
       "  9202     920.2     70.4                 70.007810  67.957112      69.91048\n",
       "  9203     920.3     70.4                 70.007771  67.957073      69.91048\n",
       "  9204     920.4     70.4                 70.007733  67.957035      69.91048\n",
       "  9205     920.5     70.4                 70.007692  67.956994      69.91048\n",
       "  9206     920.6     70.4                 70.007650  67.956951      69.91048\n",
       "  \n",
       "  [9207 rows x 5 columns],\n",
       "         Time [s]  SoC [%]  Physics-and-XGBRegressor    Physics  XGBRegressor\n",
       "  0           0.0     72.1                 72.228211  72.100000     71.799706\n",
       "  1           0.1     72.1                 72.228071  72.099860     71.799706\n",
       "  2           0.2     72.1                 72.233426  72.099691     71.611305\n",
       "  3           0.3     72.1                 72.233238  72.099503     71.611305\n",
       "  4           0.4     72.1                 72.241010  72.099297     71.648026\n",
       "  ...         ...      ...                       ...        ...           ...\n",
       "  10963    1096.3     57.8                 57.008008  55.191462     60.790665\n",
       "  10964    1096.4     57.8                 57.007760  55.191214     60.790665\n",
       "  10965    1096.5     57.8                 57.007514  55.190969     60.790665\n",
       "  10966    1096.6     57.8                 57.007276  55.190731     60.790665\n",
       "  10967    1096.7     57.8                 57.007042  55.190497     60.790665\n",
       "  \n",
       "  [10968 rows x 5 columns],\n",
       "        Time [s]  SoC [%]  Physics-and-XGBRegressor    Physics  XGBRegressor\n",
       "  0          0.0     52.6                 52.596483  52.600000     53.032750\n",
       "  1          0.1     52.6                 52.596172  52.599689     53.013157\n",
       "  2          0.2     52.6                 52.595872  52.599388     52.970110\n",
       "  3          0.3     52.6                 52.595571  52.599088     52.970110\n",
       "  4          0.4     52.6                 52.595236  52.598753     53.168392\n",
       "  ...        ...      ...                       ...        ...           ...\n",
       "  7951     795.1     38.1                 36.467755  35.464417     43.196316\n",
       "  7952     795.2     38.1                 36.467707  35.464369     43.196316\n",
       "  7953     795.3     38.1                 36.467660  35.464322     43.196316\n",
       "  7954     795.4     38.1                 36.467615  35.464277     43.196316\n",
       "  7955     795.5     38.1                 36.467573  35.464235     43.196316\n",
       "  \n",
       "  [7956 rows x 5 columns],\n",
       "        Time [s]  SoC [%]  Physics-and-XGBRegressor    Physics  XGBRegressor\n",
       "  0          0.0     77.4                 77.834129  77.400000     77.843890\n",
       "  1          0.1     77.4                 77.833549  77.399420     77.843890\n",
       "  2          0.2     77.4                 77.832969  77.398840     77.843890\n",
       "  3          0.3     77.4                 77.837023  77.398292     77.843890\n",
       "  4          0.4     77.4                 77.836506  77.397776     77.848520\n",
       "  ...        ...      ...                       ...        ...           ...\n",
       "  5475     547.5     71.6                 71.842482  70.497489     73.189125\n",
       "  5476     547.6     71.6                 71.842276  70.497282     73.189125\n",
       "  5477     547.7     71.6                 71.842059  70.497066     73.283230\n",
       "  5478     547.8     71.6                 71.841784  70.496844     73.283230\n",
       "  5479     547.9     71.6                 71.841561  70.496621     73.283230\n",
       "  \n",
       "  [5480 rows x 5 columns],\n",
       "        Time [s]  SoC [%]  Physics-and-XGBRegressor    Physics  XGBRegressor\n",
       "  0          0.0     73.9                 74.375150  73.900000     70.570404\n",
       "  1          0.1     73.9                 74.374858  73.899707     70.570404\n",
       "  2          0.2     73.9                 74.374545  73.899394     70.570404\n",
       "  3          0.3     73.9                 74.374194  73.899044     70.381040\n",
       "  4          0.4     73.9                 74.373829  73.898678     70.555020\n",
       "  ...        ...      ...                       ...        ...           ...\n",
       "  2926     292.6     71.3                 71.892505  70.780324     67.543655\n",
       "  2927     292.7     71.3                 71.896354  70.779444     67.690330\n",
       "  2928     292.8     71.3                 71.903845  70.778531     67.690330\n",
       "  2929     292.9     71.3                 71.978691  70.777624     67.426740\n",
       "  2930     293.0     71.3                 71.977787  70.776720     67.426740\n",
       "  \n",
       "  [2931 rows x 5 columns],\n",
       "         Time [s]  SoC [%]  Physics-and-XGBRegressor    Physics  XGBRegressor\n",
       "  0           0.0     85.4                 85.831304  85.400000      82.09264\n",
       "  1           0.1     85.4                 85.831129  85.399824      82.09264\n",
       "  2           0.2     85.4                 85.830949  85.399645      82.09264\n",
       "  3           0.3     85.4                 85.830756  85.399452      82.09264\n",
       "  4           0.4     85.4                 85.830547  85.399243      82.09264\n",
       "  ...         ...      ...                       ...        ...           ...\n",
       "  13620    1362.0     71.5                 72.023876  68.958248      71.42129\n",
       "  13621    1362.1     71.5                 72.023613  68.957985      71.42129\n",
       "  13622    1362.2     71.5                 72.023352  68.957724      71.42129\n",
       "  13623    1362.3     71.5                 72.023089  68.957461      71.42129\n",
       "  13624    1362.4     71.5                 72.022823  68.957195      71.42129\n",
       "  \n",
       "  [13625 rows x 5 columns],\n",
       "         Time [s]  SoC [%]  Physics-and-XGBRegressor    Physics  XGBRegressor\n",
       "  0           0.0     72.1                 72.278162  72.100000     72.060684\n",
       "  1           0.1     72.1                 72.277870  72.099707     72.060684\n",
       "  2           0.2     72.1                 72.277564  72.099402     72.060684\n",
       "  3           0.3     72.1                 72.277238  72.099076     72.196870\n",
       "  4           0.4     72.1                 72.276901  72.098739     72.196870\n",
       "  ...         ...      ...                       ...        ...           ...\n",
       "  28516    2851.6     44.5                 44.355248  39.441576     44.975650\n",
       "  28517    2851.7     44.5                 44.355089  39.441418     44.975650\n",
       "  28518    2851.8     44.5                 44.379164  39.441267     44.975650\n",
       "  28519    2851.9     44.5                 44.354775  39.441103     44.975650\n",
       "  28520    2852.0     44.5                 44.185448  39.440928     45.572712\n",
       "  \n",
       "  [28521 rows x 5 columns],\n",
       "         Time [s]  SoC [%]  Physics-and-XGBRegressor    Physics  XGBRegressor\n",
       "  0           0.0     83.8                 83.896419  83.800000     82.719955\n",
       "  1           0.1     83.8                 83.895722  83.799303     82.719955\n",
       "  2           0.2     83.8                 83.895025  83.798606     82.719955\n",
       "  3           0.3     83.8                 83.894329  83.797910     82.719955\n",
       "  4           0.4     83.8                 83.893628  83.797209     82.719955\n",
       "  ...         ...      ...                       ...        ...           ...\n",
       "  14167    1416.7     68.0                 68.320935  65.026110     66.665140\n",
       "  14168    1416.8     68.0                 68.320567  65.025742     66.665140\n",
       "  14169    1416.9     68.0                 68.320223  65.025398     66.665140\n",
       "  14170    1417.0     68.0                 68.319917  65.025092     66.651350\n",
       "  14171    1417.1     68.0                 68.319619  65.024794     66.651350\n",
       "  \n",
       "  [14172 rows x 5 columns],\n",
       "         Time [s]  SoC [%]  Physics-and-XGBRegressor    Physics  XGBRegressor\n",
       "  0           0.0     65.0                 65.158078  65.000000     59.447342\n",
       "  1           0.1     65.0                 65.157233  64.999155     59.251385\n",
       "  2           0.2     65.0                 65.151782  64.998294     59.251385\n",
       "  3           0.3     65.0                 65.150916  64.997428     59.251385\n",
       "  4           0.4     65.0                 65.154662  64.996584     59.251385\n",
       "  ...         ...      ...                       ...        ...           ...\n",
       "  16424    1642.4     48.8                 48.350022  45.762454     45.841335\n",
       "  16425    1642.5     48.8                 48.349798  45.762231     45.841335\n",
       "  16426    1642.6     48.8                 48.349583  45.762015     45.841335\n",
       "  16427    1642.7     48.8                 48.349375  45.761808     45.841335\n",
       "  16428    1642.8     48.8                 48.349168  45.761601     45.841335\n",
       "  \n",
       "  [16429 rows x 5 columns]]}"
      ]
     },
     "execution_count": 13,
     "metadata": {},
     "output_type": "execute_result"
    }
   ],
   "source": [
    "dict_experiments_results"
   ]
  },
  {
   "cell_type": "code",
   "execution_count": null,
   "id": "452dfd81-81c5-42a2-8e59-3d1b8b5b2c6f",
   "metadata": {},
   "outputs": [],
   "source": []
  },
  {
   "cell_type": "markdown",
   "id": "37a40bce-c69b-4c11-a83d-d94ffd513c0e",
   "metadata": {},
   "source": [
    "# Create interactive plots"
   ]
  },
  {
   "cell_type": "code",
   "execution_count": 14,
   "id": "c744e3f8-798e-4cff-beb9-fcf3afd3e483",
   "metadata": {},
   "outputs": [],
   "source": [
    "# !pip install plotly"
   ]
  },
  {
   "cell_type": "code",
   "execution_count": 15,
   "id": "ac865918-3bd6-4b09-8094-3e8056022813",
   "metadata": {},
   "outputs": [],
   "source": [
    "model_output_column_names = [\"Physics-and-XGBRegressor\", \"XGBRegressor\", \"Physics\"]"
   ]
  },
  {
   "cell_type": "code",
   "execution_count": 16,
   "id": "7f8cd75e-af05-4f0c-a0a4-7d891ee8a51c",
   "metadata": {},
   "outputs": [],
   "source": [
    "def plot_soc(file_id, model_outputs_to_display):\n",
    "    \n",
    "    # Use Plotly's \"Safe\" qualitative color palette. Source of color pallete: https://plotly.com/python/discrete-color/\n",
    "    colorblind_palette = pc.qualitative.Safe\n",
    "\n",
    "    for experiment_name in list(dict_experiments_results.keys()):\n",
    "        experiment_results = dict_experiments_results[experiment_name][file_id]\n",
    "    \n",
    "        # Create the figure\n",
    "        fig = go.Figure()\n",
    "        \n",
    "        # Plot actual SoC only from first model\n",
    "        fig.add_trace(go.Scatter(\n",
    "            x=experiment_results['Time [s]'],\n",
    "            y=experiment_results['SoC [%]'],\n",
    "            mode='lines',\n",
    "            line=dict(width=3, color=colorblind_palette[0]),\n",
    "            name='Actual SoC [%]'\n",
    "        ))\n",
    "\n",
    "        marker_styles = ['circle', 'square', 'diamond', 'cross', 'x', 'triangle-up', 'triangle-down']\n",
    "        for idx_model, model_output_column_name in enumerate(model_output_column_names):\n",
    "            # If model_output_column_name is not in selected model_outputs_to_display, skip\n",
    "            if model_output_column_name not in model_outputs_to_display:\n",
    "                continue     \n",
    "\n",
    "            line_opacity = 0.7\n",
    "            fig.add_trace(go.Scatter(\n",
    "                x=experiment_results['Time [s]'],\n",
    "                y=experiment_results[model_output_column_name],\n",
    "                mode='lines',\n",
    "                line=dict(dash='dot', width=3, \n",
    "                          color=f\"rgba{tuple(map(int, colorblind_palette[(idx_model % len(colorblind_palette)) + 1][4:-1].split(',')))[:3] + (line_opacity,)}\"),\n",
    "                name=f\"Model: {model_output_column_name}\"\n",
    "            ))    # color with opacity is last answer from AI assistant: https://chatgpt.com/share/67a8fb48-ae30-800b-b9c4-44caa979d630\n",
    "            \n",
    "        # Update layout\n",
    "        fig.update_layout(\n",
    "            title=f'Experiment: {experiment_name}<br><sup>Actual vs Estimated State of Charge (SoC %) of file {file_id}</sup>',\n",
    "            xaxis_title='Time [s]',\n",
    "            yaxis_title='State of Charge [%]',\n",
    "            legend_title='Legend',\n",
    "            template='plotly_white'\n",
    "        )\n",
    "        \n",
    "        # Show the plot\n",
    "        fig.show()"
   ]
  },
  {
   "cell_type": "code",
   "execution_count": 17,
   "id": "0a5991a5-0487-4119-add0-05012267f33e",
   "metadata": {},
   "outputs": [],
   "source": [
    "# get total number of files\n",
    "total_files = len(dict_experiments_results[list(dict_experiments_results)[0]])    # number of dataframes in first experiments"
   ]
  },
  {
   "cell_type": "code",
   "execution_count": 18,
   "id": "f5cf0597-c4f4-4d39-b656-b88ffa08d813",
   "metadata": {
    "editable": true,
    "slideshow": {
     "slide_type": ""
    },
    "tags": []
   },
   "outputs": [
    {
     "data": {
      "application/vnd.jupyter.widget-view+json": {
       "model_id": "0fa8cf678fca4da985d915bbad52f8ac",
       "version_major": 2,
       "version_minor": 0
      },
      "text/plain": [
       "HBox(children=(SelectMultiple(description='Models:', index=(0, 1, 2), options=('Physics-and-XGBRegressor', 'XG…"
      ]
     },
     "metadata": {},
     "output_type": "display_data"
    },
    {
     "data": {
      "application/vnd.jupyter.widget-view+json": {
       "model_id": "9edcea2c948a444dab78e1adfe9664d3",
       "version_major": 2,
       "version_minor": 0
      },
      "text/plain": [
       "Output()"
      ]
     },
     "metadata": {},
     "output_type": "display_data"
    }
   ],
   "source": [
    "# Create Slider for multiple selection of models\n",
    "model_select_multiple = widgets.SelectMultiple(\n",
    "    options=model_output_column_names,\n",
    "    value=model_output_column_names,\n",
    "    rows=len(model_output_column_names),\n",
    "    description='Models:',\n",
    "    disabled=False\n",
    ")\n",
    "\n",
    "# Create a slider for selecting the ID\n",
    "id_slider = widgets.IntSlider(\n",
    "    value=0, \n",
    "    min=0, \n",
    "    max=(total_files -1),    # max is the total number of file in any of the model results \n",
    "    step=1, \n",
    "    description='Test file ID:',\n",
    "    continuous_update=False,\n",
    "    style={'slider_button_width': '20px'}  # Enable built-in buttons\n",
    ")\n",
    "\n",
    "# Create a horizontal layout for the id_slider and model_select_multiple\n",
    "controls = widgets.HBox([model_select_multiple, id_slider])\n",
    "\n",
    "# Connect the slider to the plot function\n",
    "interactive_plot = widgets.interactive_output(plot_soc, {'file_id': id_slider, 'model_outputs_to_display': model_select_multiple})\n",
    "\n",
    "# Display the controls widgets and plot together\n",
    "display(controls, interactive_plot)"
   ]
  },
  {
   "cell_type": "code",
   "execution_count": null,
   "id": "ee8eab7f-79da-4434-865c-91fc836e3bba",
   "metadata": {},
   "outputs": [],
   "source": []
  }
 ],
 "metadata": {
  "kernelspec": {
   "display_name": "Python 3 (ipykernel)",
   "language": "python",
   "name": "python3"
  },
  "language_info": {
   "codemirror_mode": {
    "name": "ipython",
    "version": 3
   },
   "file_extension": ".py",
   "mimetype": "text/x-python",
   "name": "python",
   "nbconvert_exporter": "python",
   "pygments_lexer": "ipython3",
   "version": "3.9.21"
  }
 },
 "nbformat": 4,
 "nbformat_minor": 5
}
