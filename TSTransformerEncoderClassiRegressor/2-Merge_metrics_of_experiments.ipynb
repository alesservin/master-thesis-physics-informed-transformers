{
 "cells": [
  {
   "cell_type": "code",
   "execution_count": 1,
   "id": "2a498f2a-74f8-4494-b53d-e252f7540abf",
   "metadata": {
    "editable": true,
    "slideshow": {
     "slide_type": ""
    },
    "tags": []
   },
   "outputs": [],
   "source": [
    "import pandas as pd\n",
    "import os\n",
    "import json\n",
    "from openpyxl import load_workbook\n",
    "from openpyxl.formatting.rule import ColorScaleRule\n",
    "from openpyxl.styles import Border, Side"
   ]
  },
  {
   "cell_type": "code",
   "execution_count": 2,
   "id": "5ac4a98e-7fe9-4852-93c0-ffd088249d27",
   "metadata": {},
   "outputs": [],
   "source": [
    "# !pip install openpyxl"
   ]
  },
  {
   "cell_type": "code",
   "execution_count": null,
   "id": "59a17791-2f8f-4184-8644-52562ab538d1",
   "metadata": {},
   "outputs": [],
   "source": [
    "def list_directories(path):\n",
    "    directories = [f\"{path}/{d}\" for d in os.listdir(path) if os.path.isdir(os.path.join(path, d)) \n",
    "                   and \".ipynb_checkpoints\" not in d]\n",
    "    return directories"
   ]
  },
  {
   "cell_type": "markdown",
   "id": "b2a3dff7-1396-4ac8-b4e4-f13cd068c17d",
   "metadata": {
    "jp-MarkdownHeadingCollapsed": true
   },
   "source": [
    "# Get List of experiments for each dataset"
   ]
  },
  {
   "cell_type": "code",
   "execution_count": 4,
   "id": "952a885b-7d05-42d2-91ca-5fc92598dc7f",
   "metadata": {},
   "outputs": [],
   "source": [
    "results_dataset_paths = [\"results\"]"
   ]
  },
  {
   "cell_type": "code",
   "execution_count": 5,
   "id": "1e916b0b-dc37-4b01-b23a-2d68c96921b2",
   "metadata": {
    "editable": true,
    "slideshow": {
     "slide_type": ""
    },
    "tags": []
   },
   "outputs": [
    {
     "data": {
      "text/plain": [
       "{'results': ['results/1-Delta approach, Lr=0.0001, epochs=100, dropout=0.2, TransformerModel=TSTransformerEncoderClassiregressor',\n",
       "  'results/10-Data Loss + Physics Loss, lambda=0.5, Lr=0.0001, epochs=100, dropout=0.25, TransfomerModel=TSTransformerEncoderClassiregressor',\n",
       "  'results/11-Data Loss + Physics Loss, lambda=2, Lr=0.0001, epochs=100, dropout=0.25, TransfomerModel=TSTransformerEncoderClassiregressor',\n",
       "  'results/12-Data Loss + Physics Loss, lambda=5, Lr=0.0001, epochs=100, dropout=0.25, TransfomerModel=TSTransformerEncoderClassiregressor',\n",
       "  'results/13-Data Loss + Physics Loss, lambda=10, Lr=0.0001, epochs=100, dropout=0.25, TransfomerModel=TSTransformerEncoderClassiregressor',\n",
       "  'results/14-Data Loss + Physics Loss, lambda=0.5, Lr=0.0001, epochs=100, dropout=0.1, TransfomerModel=TSTransformerEncoderClassiregressor',\n",
       "  'results/15-Data Loss + Physics Loss, lambda=2, Lr=0.0001, epochs=100, dropout=0.1, TransfomerModel=TSTransformerEncoderClassiregressor',\n",
       "  'results/16-Data Loss + Physics Loss, lambda=5, Lr=0.0001, epochs=100, dropout=0.1, TransfomerModel=TSTransformerEncoderClassiregressor',\n",
       "  'results/17-Data Loss + Physics Loss, lambda=10, Lr=0.0001, epochs=100, dropout=0.1, TransfomerModel=TSTransformerEncoderClassiregressor',\n",
       "  'results/18-Data Loss + Physics Loss, lambda=0.5, Lr=0.001, epochs=100, dropout=0.1, TransfomerModel=TSTransformerEncoderClassiregressor',\n",
       "  'results/19-Data Loss + Physics Loss, lambda=2, Lr=0.001, epochs=100, dropout=0.1, TransfomerModel=TSTransformerEncoderClassiregressor',\n",
       "  'results/2-Delta approach, Lr=0.0001, epochs=200, dropout=0.2, TransfomerModel=TSTransformerEncoderClassiregressor',\n",
       "  'results/20-Data Loss + Physics Loss, lambda=5, Lr=0.001, epochs=100, dropout=0.1, TransfomerModel=TSTransformerEncoderClassiregressor',\n",
       "  'results/21-Data Loss + Physics Loss, lambda=10, Lr=0.001, epochs=100, dropout=0.1, TransfomerModel=TSTransformerEncoderClassiregressor',\n",
       "  'results/3-Delta approach, Lr=0.0001, epochs=100, dropout=0.25, TransfomerModel=TSTransformerEncoderClassiregressor',\n",
       "  'results/4-Delta approach, Lr=0.0001, epochs=100, dropout=0.1, TransfomerModel=TSTransformerEncoderClassiregressor',\n",
       "  'results/5-Delta approach, Lr=0.001, epochs=100, dropout=0.1, TransfomerModel=TSTransformerEncoderClassiregressor',\n",
       "  'results/6-Data Loss + Physics Loss, lambda=0.5, Lr=0.0001, epochs=200, dropout=0.2, TransfomerModel=TSTransformerEncoderClassiregressor',\n",
       "  'results/7-Data Loss + Physics Loss, lambda=2, Lr=0.0001, epochs=200, dropout=0.2, TransfomerModel=TSTransformerEncoderClassiregressor',\n",
       "  'results/8-Data Loss + Physics Loss, lambda=5, Lr=0.0001, epochs=200, dropout=0.2, TransfomerModel=TSTransformerEncoderClassiregressor',\n",
       "  'results/9-Data Loss + Physics Loss, lambda=10, Lr=0.0001, epochs=200, dropout=0.2, TransfomerModel=TSTransformerEncoderClassiregressor']}"
      ]
     },
     "execution_count": 5,
     "metadata": {},
     "output_type": "execute_result"
    }
   ],
   "source": [
    "experiments_paths_by_dataset = {}\n",
    "# experiments_paths.extend([list_directories(dataset_path) for dataset_path in results_dataset_paths])\n",
    "for dataset_path in results_dataset_paths:\n",
    "    experiments_paths_by_dataset[dataset_path] = list_directories(dataset_path)\n",
    "experiments_paths_by_dataset"
   ]
  },
  {
   "cell_type": "code",
   "execution_count": null,
   "id": "df557789-fdb2-477f-a913-a5c66c115bea",
   "metadata": {},
   "outputs": [],
   "source": []
  },
  {
   "cell_type": "markdown",
   "id": "1f54d302-c65c-4831-a162-5a8c2b4b73f3",
   "metadata": {
    "jp-MarkdownHeadingCollapsed": true
   },
   "source": [
    "# Get metrics of each model in each experiment in each dataset result"
   ]
  },
  {
   "cell_type": "code",
   "execution_count": 6,
   "id": "fcd0f974-6ac5-4655-a85c-707fa277cbd3",
   "metadata": {
    "editable": true,
    "slideshow": {
     "slide_type": ""
    },
    "tags": []
   },
   "outputs": [
    {
     "name": "stdout",
     "output_type": "stream",
     "text": [
      "{'results': [{'Experiment settings': '1-Delta approach, Lr=0.0001, epochs=100, dropout=0.2, TransformerModel=TSTransformerEncoderClassiregressor', 'Model': 'Physics', 'RMSE (Validation set)': 0.1419155467301607, 'RMSE': 0.1561603456735611, 'MSE': 0.027255154168233275, 'MAE': 0.12231469228863716}, {'Experiment settings': '1-Delta approach, Lr=0.0001, epochs=100, dropout=0.2, TransformerModel=TSTransformerEncoderClassiregressor', 'Model': 'Physics-and-Transformer', 'RMSE (Validation set)': 0.0917239097878337, 'RMSE': 0.09310950692743063, 'MSE': 0.01021617577644065, 'MAE': 0.04646494956687093}, {'Experiment settings': '1-Delta approach, Lr=0.0001, epochs=100, dropout=0.2, TransformerModel=TSTransformerEncoderClassiregressor', 'Model': 'Transformer', 'RMSE (Validation set)': 0.24140130691230297, 'RMSE': 0.22260865941643715, 'MSE': 0.12289508935064078, 'MAE': 0.19846398048102856}, {'Experiment settings': '10-Data Loss + Physics Loss, lambda=0.5, Lr=0.0001, epochs=100, dropout=0.25, TransfomerModel=TSTransformerEncoderClassiregressor', 'Model': 'Physics', 'RMSE (Validation set)': 0.1419155467301607, 'RMSE': 0.1561603456735611, 'MSE': 0.027255154168233275, 'MAE': 0.12231469228863716}, {'Experiment settings': '10-Data Loss + Physics Loss, lambda=0.5, Lr=0.0001, epochs=100, dropout=0.25, TransfomerModel=TSTransformerEncoderClassiregressor', 'Model': 'Physics-and-Transformer', 'RMSE (Validation set)': 0.2435506507754326, 'RMSE': 0.38661541789770126, 'MSE': 0.22270245142281056, 'MAE': 0.3448550596833229}, {'Experiment settings': '10-Data Loss + Physics Loss, lambda=0.5, Lr=0.0001, epochs=100, dropout=0.25, TransfomerModel=TSTransformerEncoderClassiregressor', 'Model': 'Transformer', 'RMSE (Validation set)': 0.24673982337117195, 'RMSE': 0.23791121691465378, 'MSE': 0.1397427507210523, 'MAE': 0.21420519500970842}, {'Experiment settings': '11-Data Loss + Physics Loss, lambda=2, Lr=0.0001, epochs=100, dropout=0.25, TransfomerModel=TSTransformerEncoderClassiregressor', 'Model': 'Physics', 'RMSE (Validation set)': 0.1419155467301607, 'RMSE': 0.1561603456735611, 'MSE': 0.027255154168233275, 'MAE': 0.12231469228863716}, {'Experiment settings': '11-Data Loss + Physics Loss, lambda=2, Lr=0.0001, epochs=100, dropout=0.25, TransfomerModel=TSTransformerEncoderClassiregressor', 'Model': 'Physics-and-Transformer', 'RMSE (Validation set)': 0.2485583707690239, 'RMSE': 0.796910148859024, 'MSE': 0.4532539829611778, 'MAE': 0.6984230935573578}, {'Experiment settings': '11-Data Loss + Physics Loss, lambda=2, Lr=0.0001, epochs=100, dropout=0.25, TransfomerModel=TSTransformerEncoderClassiregressor', 'Model': 'Transformer', 'RMSE (Validation set)': 0.24673982337117195, 'RMSE': 0.23791121691465378, 'MSE': 0.1397427507210523, 'MAE': 0.21420519500970842}, {'Experiment settings': '12-Data Loss + Physics Loss, lambda=5, Lr=0.0001, epochs=100, dropout=0.25, TransfomerModel=TSTransformerEncoderClassiregressor', 'Model': 'Physics', 'RMSE (Validation set)': 0.1419155467301607, 'RMSE': 0.1561603456735611, 'MSE': 0.027255154168233275, 'MAE': 0.12231469228863716}, {'Experiment settings': '12-Data Loss + Physics Loss, lambda=5, Lr=0.0001, epochs=100, dropout=0.25, TransfomerModel=TSTransformerEncoderClassiregressor', 'Model': 'Physics-and-Transformer', 'RMSE (Validation set)': 0.25548249781131743, 'RMSE': 1.6088855147361756, 'MSE': 0.9065362460911274, 'MAE': 1.3994151890277862}, {'Experiment settings': '12-Data Loss + Physics Loss, lambda=5, Lr=0.0001, epochs=100, dropout=0.25, TransfomerModel=TSTransformerEncoderClassiregressor', 'Model': 'Transformer', 'RMSE (Validation set)': 0.24673982337117195, 'RMSE': 0.23791121691465378, 'MSE': 0.1397427507210523, 'MAE': 0.21420519500970842}, {'Experiment settings': '13-Data Loss + Physics Loss, lambda=10, Lr=0.0001, epochs=100, dropout=0.25, TransfomerModel=TSTransformerEncoderClassiregressor', 'Model': 'Physics', 'RMSE (Validation set)': 0.1419155467301607, 'RMSE': 0.1561603456735611, 'MSE': 0.027255154168233275, 'MAE': 0.12231469228863716}, {'Experiment settings': '13-Data Loss + Physics Loss, lambda=10, Lr=0.0001, epochs=100, dropout=0.25, TransfomerModel=TSTransformerEncoderClassiregressor', 'Model': 'Physics-and-Transformer', 'RMSE (Validation set)': 0.2593031510710716, 'RMSE': 2.9677083611488344, 'MSE': 1.6599724650382996, 'MAE': 2.5768263399600984}, {'Experiment settings': '13-Data Loss + Physics Loss, lambda=10, Lr=0.0001, epochs=100, dropout=0.25, TransfomerModel=TSTransformerEncoderClassiregressor', 'Model': 'Transformer', 'RMSE (Validation set)': 0.24673982337117195, 'RMSE': 0.23791121691465378, 'MSE': 0.1397427507210523, 'MAE': 0.21420519500970842}, {'Experiment settings': '14-Data Loss + Physics Loss, lambda=0.5, Lr=0.0001, epochs=100, dropout=0.1, TransfomerModel=TSTransformerEncoderClassiregressor', 'Model': 'Physics', 'RMSE (Validation set)': 0.1419155467301607, 'RMSE': 0.1561603456735611, 'MSE': 0.027255154168233275, 'MAE': 0.12231469228863716}, {'Experiment settings': '14-Data Loss + Physics Loss, lambda=0.5, Lr=0.0001, epochs=100, dropout=0.1, TransfomerModel=TSTransformerEncoderClassiregressor', 'Model': 'Physics-and-Transformer', 'RMSE (Validation set)': 0.24592017456889154, 'RMSE': 0.36332403123378754, 'MSE': 0.20490253446623682, 'MAE': 0.32322909832000735}, {'Experiment settings': '14-Data Loss + Physics Loss, lambda=0.5, Lr=0.0001, epochs=100, dropout=0.1, TransfomerModel=TSTransformerEncoderClassiregressor', 'Model': 'Transformer', 'RMSE (Validation set)': 0.24964597597718238, 'RMSE': 0.21905987188220025, 'MSE': 0.12617371671367436, 'MAE': 0.19823010303080082}, {'Experiment settings': '15-Data Loss + Physics Loss, lambda=2, Lr=0.0001, epochs=100, dropout=0.1, TransfomerModel=TSTransformerEncoderClassiregressor', 'Model': 'Physics', 'RMSE (Validation set)': 0.1419155467301607, 'RMSE': 0.1561603456735611, 'MSE': 0.027255154168233275, 'MAE': 0.12231469228863716}, {'Experiment settings': '15-Data Loss + Physics Loss, lambda=2, Lr=0.0001, epochs=100, dropout=0.1, TransfomerModel=TSTransformerEncoderClassiregressor', 'Model': 'Physics-and-Transformer', 'RMSE (Validation set)': 0.25174603089690206, 'RMSE': 0.7647998213768006, 'MSE': 0.42805593702942135, 'MAE': 0.6767586067318916}, {'Experiment settings': '15-Data Loss + Physics Loss, lambda=2, Lr=0.0001, epochs=100, dropout=0.1, TransfomerModel=TSTransformerEncoderClassiregressor', 'Model': 'Transformer', 'RMSE (Validation set)': 0.24964597597718238, 'RMSE': 0.21905987188220025, 'MSE': 0.12617371671367436, 'MAE': 0.19823010303080082}, {'Experiment settings': '16-Data Loss + Physics Loss, lambda=5, Lr=0.0001, epochs=100, dropout=0.1, TransfomerModel=TSTransformerEncoderClassiregressor', 'Model': 'Physics', 'RMSE (Validation set)': 0.1419155467301607, 'RMSE': 0.1561603456735611, 'MSE': 0.027255154168233275, 'MAE': 0.12231469228863716}, {'Experiment settings': '16-Data Loss + Physics Loss, lambda=5, Lr=0.0001, epochs=100, dropout=0.1, TransfomerModel=TSTransformerEncoderClassiregressor', 'Model': 'Physics-and-Transformer', 'RMSE (Validation set)': 0.2593929409980774, 'RMSE': 1.5544878035783767, 'MSE': 0.863717945292592, 'MAE': 1.3616075545549393}, {'Experiment settings': '16-Data Loss + Physics Loss, lambda=5, Lr=0.0001, epochs=100, dropout=0.1, TransfomerModel=TSTransformerEncoderClassiregressor', 'Model': 'Transformer', 'RMSE (Validation set)': 0.24964597597718238, 'RMSE': 0.21905987188220025, 'MSE': 0.12617371671367436, 'MAE': 0.19823010303080082}, {'Experiment settings': '17-Data Loss + Physics Loss, lambda=10, Lr=0.0001, epochs=100, dropout=0.1, TransfomerModel=TSTransformerEncoderClassiregressor', 'Model': 'Physics', 'RMSE (Validation set)': 0.1419155467301607, 'RMSE': 0.1561603456735611, 'MSE': 0.027255154168233275, 'MAE': 0.12231469228863716}, {'Experiment settings': '17-Data Loss + Physics Loss, lambda=10, Lr=0.0001, epochs=100, dropout=0.1, TransfomerModel=TSTransformerEncoderClassiregressor', 'Model': 'Physics-and-Transformer', 'RMSE (Validation set)': 0.26391284391283987, 'RMSE': 2.874275255203247, 'MSE': 1.5871024571359158, 'MAE': 2.5084933936595917}, {'Experiment settings': '17-Data Loss + Physics Loss, lambda=10, Lr=0.0001, epochs=100, dropout=0.1, TransfomerModel=TSTransformerEncoderClassiregressor', 'Model': 'Transformer', 'RMSE (Validation set)': 0.24964597597718238, 'RMSE': 0.21905987188220025, 'MSE': 0.12617371671367436, 'MAE': 0.19823010303080082}, {'Experiment settings': '18-Data Loss + Physics Loss, lambda=0.5, Lr=0.001, epochs=100, dropout=0.1, TransfomerModel=TSTransformerEncoderClassiregressor', 'Model': 'Physics', 'RMSE (Validation set)': 0.1419155467301607, 'RMSE': 0.1561603456735611, 'MSE': 0.027255154168233275, 'MAE': 0.12231469228863716}, {'Experiment settings': '18-Data Loss + Physics Loss, lambda=0.5, Lr=0.001, epochs=100, dropout=0.1, TransfomerModel=TSTransformerEncoderClassiregressor', 'Model': 'Physics-and-Transformer', 'RMSE (Validation set)': 0.2884193673729897, 'RMSE': 0.4684979945421219, 'MSE': 0.24146874267607926, 'MAE': 0.4318923130631447}, {'Experiment settings': '18-Data Loss + Physics Loss, lambda=0.5, Lr=0.001, epochs=100, dropout=0.1, TransfomerModel=TSTransformerEncoderClassiregressor', 'Model': 'Transformer', 'RMSE (Validation set)': 0.2638861685991287, 'RMSE': 0.26499121338129045, 'MSE': 0.13770894119516014, 'MAE': 0.24106103405356408}, {'Experiment settings': '19-Data Loss + Physics Loss, lambda=2, Lr=0.001, epochs=100, dropout=0.1, TransfomerModel=TSTransformerEncoderClassiregressor', 'Model': 'Physics', 'RMSE (Validation set)': 0.1419155467301607, 'RMSE': 0.1561603456735611, 'MSE': 0.027255154168233275, 'MAE': 0.12231469228863716}, {'Experiment settings': '19-Data Loss + Physics Loss, lambda=2, Lr=0.001, epochs=100, dropout=0.1, TransfomerModel=TSTransformerEncoderClassiregressor', 'Model': 'Physics-and-Transformer', 'RMSE (Validation set)': 0.23760471493005753, 'RMSE': 0.7451614290475845, 'MSE': 0.3358887856826186, 'MAE': 0.644744947552681}, {'Experiment settings': '19-Data Loss + Physics Loss, lambda=2, Lr=0.001, epochs=100, dropout=0.1, TransfomerModel=TSTransformerEncoderClassiregressor', 'Model': 'Transformer', 'RMSE (Validation set)': 0.2638861685991287, 'RMSE': 0.26499121338129045, 'MSE': 0.13770894119516014, 'MAE': 0.24106103405356408}, {'Experiment settings': '2-Delta approach, Lr=0.0001, epochs=200, dropout=0.2, TransfomerModel=TSTransformerEncoderClassiregressor', 'Model': 'Physics', 'RMSE (Validation set)': 0.1419155467301607, 'RMSE': 0.1561603456735611, 'MSE': 0.027255154168233275, 'MAE': 0.12231469228863716}, {'Experiment settings': '2-Delta approach, Lr=0.0001, epochs=200, dropout=0.2, TransfomerModel=TSTransformerEncoderClassiregressor', 'Model': 'Physics-and-Transformer', 'RMSE (Validation set)': 0.08507291860878467, 'RMSE': 0.08862673994153739, 'MSE': 0.009121516434242949, 'MAE': 0.043582497630268335}, {'Experiment settings': '2-Delta approach, Lr=0.0001, epochs=200, dropout=0.2, TransfomerModel=TSTransformerEncoderClassiregressor', 'Model': 'Transformer', 'RMSE (Validation set)': 0.23287946060299874, 'RMSE': 0.21497038900852203, 'MSE': 0.11534865940921009, 'MAE': 0.1923928141593933}, {'Experiment settings': '20-Data Loss + Physics Loss, lambda=5, Lr=0.001, epochs=100, dropout=0.1, TransfomerModel=TSTransformerEncoderClassiregressor', 'Model': 'Physics', 'RMSE (Validation set)': 0.1419155467301607, 'RMSE': 0.1561603456735611, 'MSE': 0.027255154168233275, 'MAE': 0.12231469228863716}, {'Experiment settings': '20-Data Loss + Physics Loss, lambda=5, Lr=0.001, epochs=100, dropout=0.1, TransfomerModel=TSTransformerEncoderClassiregressor', 'Model': 'Physics-and-Transformer', 'RMSE (Validation set)': 0.2661679834127426, 'RMSE': 1.5774371206760407, 'MSE': 0.8770229950547218, 'MAE': 1.4078883975744247}, {'Experiment settings': '20-Data Loss + Physics Loss, lambda=5, Lr=0.001, epochs=100, dropout=0.1, TransfomerModel=TSTransformerEncoderClassiregressor', 'Model': 'Transformer', 'RMSE (Validation set)': 0.2638861685991287, 'RMSE': 0.26499121338129045, 'MSE': 0.13770894119516014, 'MAE': 0.24106103405356408}, {'Experiment settings': '21-Data Loss + Physics Loss, lambda=10, Lr=0.001, epochs=100, dropout=0.1, TransfomerModel=TSTransformerEncoderClassiregressor', 'Model': 'Physics', 'RMSE (Validation set)': 0.1419155467301607, 'RMSE': 0.1561603456735611, 'MSE': 0.027255154168233275, 'MAE': 0.12231469228863716}, {'Experiment settings': '21-Data Loss + Physics Loss, lambda=10, Lr=0.001, epochs=100, dropout=0.1, TransfomerModel=TSTransformerEncoderClassiregressor', 'Model': 'Physics-and-Transformer', 'RMSE (Validation set)': 0.3148752495646477, 'RMSE': 3.585344076156616, 'MSE': 2.0023730367422106, 'MAE': 3.2547990798950197}, {'Experiment settings': '21-Data Loss + Physics Loss, lambda=10, Lr=0.001, epochs=100, dropout=0.1, TransfomerModel=TSTransformerEncoderClassiregressor', 'Model': 'Transformer', 'RMSE (Validation set)': 0.2638861685991287, 'RMSE': 0.26499121338129045, 'MSE': 0.13770894119516014, 'MAE': 0.24106103405356408}, {'Experiment settings': '3-Delta approach, Lr=0.0001, epochs=100, dropout=0.25, TransfomerModel=TSTransformerEncoderClassiregressor', 'Model': 'Physics', 'RMSE (Validation set)': 0.1419155467301607, 'RMSE': 0.1561603456735611, 'MSE': 0.027255154168233275, 'MAE': 0.12231469228863716}, {'Experiment settings': '3-Delta approach, Lr=0.0001, epochs=100, dropout=0.25, TransfomerModel=TSTransformerEncoderClassiregressor', 'Model': 'Physics-and-Transformer', 'RMSE (Validation set)': 0.09398666750639677, 'RMSE': 0.09479098860174417, 'MSE': 0.01072441046126187, 'MAE': 0.04663112573325634}, {'Experiment settings': '3-Delta approach, Lr=0.0001, epochs=100, dropout=0.25, TransfomerModel=TSTransformerEncoderClassiregressor', 'Model': 'Transformer', 'RMSE (Validation set)': 0.24673982337117195, 'RMSE': 0.23791121691465378, 'MSE': 0.1397427507210523, 'MAE': 0.21420519500970842}, {'Experiment settings': '4-Delta approach, Lr=0.0001, epochs=100, dropout=0.1, TransfomerModel=TSTransformerEncoderClassiregressor', 'Model': 'Physics', 'RMSE (Validation set)': 0.1419155467301607, 'RMSE': 0.1561603456735611, 'MSE': 0.027255154168233275, 'MAE': 0.12231469228863716}, {'Experiment settings': '4-Delta approach, Lr=0.0001, epochs=100, dropout=0.1, TransfomerModel=TSTransformerEncoderClassiregressor', 'Model': 'Physics-and-Transformer', 'RMSE (Validation set)': 0.09022489618510007, 'RMSE': 0.08899054657667875, 'MSE': 0.009588147918111644, 'MAE': 0.03800799893215299}, {'Experiment settings': '4-Delta approach, Lr=0.0001, epochs=100, dropout=0.1, TransfomerModel=TSTransformerEncoderClassiregressor', 'Model': 'Transformer', 'RMSE (Validation set)': 0.24964597597718238, 'RMSE': 0.21905987188220025, 'MSE': 0.12617371671367436, 'MAE': 0.19823010303080082}, {'Experiment settings': '5-Delta approach, Lr=0.001, epochs=100, dropout=0.1, TransfomerModel=TSTransformerEncoderClassiregressor', 'Model': 'Physics', 'RMSE (Validation set)': 0.1419155467301607, 'RMSE': 0.1561603456735611, 'MSE': 0.027255154168233275, 'MAE': 0.12231469228863716}, {'Experiment settings': '5-Delta approach, Lr=0.001, epochs=100, dropout=0.1, TransfomerModel=TSTransformerEncoderClassiregressor', 'Model': 'Physics-and-Transformer', 'RMSE (Validation set)': 0.07570318132638931, 'RMSE': 0.08314085714519023, 'MSE': 0.007865821581799538, 'MAE': 0.03600839842110872}, {'Experiment settings': '5-Delta approach, Lr=0.001, epochs=100, dropout=0.1, TransfomerModel=TSTransformerEncoderClassiregressor', 'Model': 'Transformer', 'RMSE (Validation set)': 0.2638861685991287, 'RMSE': 0.26499121338129045, 'MSE': 0.13770894119516014, 'MAE': 0.24106103405356408}, {'Experiment settings': '6-Data Loss + Physics Loss, lambda=0.5, Lr=0.0001, epochs=200, dropout=0.2, TransfomerModel=TSTransformerEncoderClassiregressor', 'Model': 'Physics', 'RMSE (Validation set)': 0.1419155467301607, 'RMSE': 0.1561603456735611, 'MSE': 0.027255154168233275, 'MAE': 0.12231469228863716}, {'Experiment settings': '6-Data Loss + Physics Loss, lambda=0.5, Lr=0.0001, epochs=200, dropout=0.2, TransfomerModel=TSTransformerEncoderClassiregressor', 'Model': 'Physics-and-Transformer', 'RMSE (Validation set)': 0.2453259401023388, 'RMSE': 0.37479309141635897, 'MSE': 0.2113228751346469, 'MAE': 0.3319964863359928}, {'Experiment settings': '6-Data Loss + Physics Loss, lambda=0.5, Lr=0.0001, epochs=200, dropout=0.2, TransfomerModel=TSTransformerEncoderClassiregressor', 'Model': 'Transformer', 'RMSE (Validation set)': 0.23287946060299874, 'RMSE': 0.21497038900852203, 'MSE': 0.11534865940921009, 'MAE': 0.1923928141593933}, {'Experiment settings': '7-Data Loss + Physics Loss, lambda=2, Lr=0.0001, epochs=200, dropout=0.2, TransfomerModel=TSTransformerEncoderClassiregressor', 'Model': 'Physics', 'RMSE (Validation set)': 0.1419155467301607, 'RMSE': 0.1561603456735611, 'MSE': 0.027255154168233275, 'MAE': 0.12231469228863716}, {'Experiment settings': '7-Data Loss + Physics Loss, lambda=2, Lr=0.0001, epochs=200, dropout=0.2, TransfomerModel=TSTransformerEncoderClassiregressor', 'Model': 'Physics-and-Transformer', 'RMSE (Validation set)': 0.2504203341901302, 'RMSE': 0.7773017525672913, 'MSE': 0.4314502352848649, 'MAE': 0.6804856777191162}, {'Experiment settings': '7-Data Loss + Physics Loss, lambda=2, Lr=0.0001, epochs=200, dropout=0.2, TransfomerModel=TSTransformerEncoderClassiregressor', 'Model': 'Transformer', 'RMSE (Validation set)': 0.23287946060299874, 'RMSE': 0.21497038900852203, 'MSE': 0.11534865940921009, 'MAE': 0.1923928141593933}, {'Experiment settings': '8-Data Loss + Physics Loss, lambda=5, Lr=0.0001, epochs=200, dropout=0.2, TransfomerModel=TSTransformerEncoderClassiregressor', 'Model': 'Physics', 'RMSE (Validation set)': 0.1419155467301607, 'RMSE': 0.1561603456735611, 'MSE': 0.027255154168233275, 'MAE': 0.12231469228863716}, {'Experiment settings': '8-Data Loss + Physics Loss, lambda=5, Lr=0.0001, epochs=200, dropout=0.2, TransfomerModel=TSTransformerEncoderClassiregressor', 'Model': 'Physics-and-Transformer', 'RMSE (Validation set)': 0.2571423575282097, 'RMSE': 1.5748933553695679, 'MSE': 0.8668172534555196, 'MAE': 1.3640742659568788}, {'Experiment settings': '8-Data Loss + Physics Loss, lambda=5, Lr=0.0001, epochs=200, dropout=0.2, TransfomerModel=TSTransformerEncoderClassiregressor', 'Model': 'Transformer', 'RMSE (Validation set)': 0.23287946060299874, 'RMSE': 0.21497038900852203, 'MSE': 0.11534865940921009, 'MAE': 0.1923928141593933}, {'Experiment settings': '9-Data Loss + Physics Loss, lambda=10, Lr=0.0001, epochs=200, dropout=0.2, TransfomerModel=TSTransformerEncoderClassiregressor', 'Model': 'Physics', 'RMSE (Validation set)': 0.1419155467301607, 'RMSE': 0.1561603456735611, 'MSE': 0.027255154168233275, 'MAE': 0.12231469228863716}, {'Experiment settings': '9-Data Loss + Physics Loss, lambda=10, Lr=0.0001, epochs=200, dropout=0.2, TransfomerModel=TSTransformerEncoderClassiregressor', 'Model': 'Physics-and-Transformer', 'RMSE (Validation set)': 0.2607759594917297, 'RMSE': 2.9088249683380125, 'MSE': 1.590693511813879, 'MAE': 2.5116056859493257}, {'Experiment settings': '9-Data Loss + Physics Loss, lambda=10, Lr=0.0001, epochs=200, dropout=0.2, TransfomerModel=TSTransformerEncoderClassiregressor', 'Model': 'Transformer', 'RMSE (Validation set)': 0.23287946060299874, 'RMSE': 0.21497038900852203, 'MSE': 0.11534865940921009, 'MAE': 0.1923928141593933}]}\n"
     ]
    }
   ],
   "source": [
    "all_datasets_metrics = {}\n",
    "for dataset_path in experiments_paths_by_dataset.keys():\n",
    "    dataset_results_metrics = []\n",
    "    for experiment_path in experiments_paths_by_dataset[dataset_path]:\n",
    "        # get all models in the experiment\n",
    "        models_paths = list_directories(experiment_path)\n",
    "\n",
    "        # print(models_paths)\n",
    "        \n",
    "        # iterate over models paths and get their metrics\n",
    "        for model_path in models_paths:\n",
    "            # open json file with metrics\n",
    "            metrics_filepath = f\"{model_path}/metrics.json\"\n",
    "            with open(metrics_filepath, 'r', encoding='utf-8') as file:\n",
    "                metrics = json.load(file)    \n",
    "                # print(metrics)\n",
    "            metrics_to_store = {\n",
    "                \"Experiment settings\": experiment_path.split(\"/\")[-1],\n",
    "                \"Model\": metrics_filepath.split(\"/\")[-2],\n",
    "                \"RMSE (Validation set)\": metrics[\"validation set RMSE\"],\n",
    "                \"RMSE\": metrics['test set loss (RMSE)'],\n",
    "                \"MSE\": metrics['test set loss (MSE)'],\n",
    "                \"MAE\": metrics['test set loss (MAE)'],\n",
    "            }\n",
    "\n",
    "            dataset_results_metrics.append(metrics_to_store)\n",
    "\n",
    "    # store metrics of all experiments for the current dataset\n",
    "    all_datasets_metrics[dataset_path] = dataset_results_metrics\n",
    "print(all_datasets_metrics)"
   ]
  },
  {
   "cell_type": "code",
   "execution_count": null,
   "id": "10139616-cd1f-486c-8eb2-0ba3b2d519a0",
   "metadata": {},
   "outputs": [],
   "source": []
  },
  {
   "cell_type": "markdown",
   "id": "02058875-423b-40bd-bc2b-4dfdf0087c03",
   "metadata": {},
   "source": [
    "# Store metrics of all experiments in the corresponding dataset result directory"
   ]
  },
  {
   "cell_type": "code",
   "execution_count": 7,
   "id": "20916696-30a6-4d93-994a-bbed489e47fd",
   "metadata": {},
   "outputs": [],
   "source": [
    "for dataset_directory in all_datasets_metrics.keys():\n",
    "    current_dataset_metrics = all_datasets_metrics[dataset_directory]\n",
    "\n",
    "    # transform current dataset metrics to dataframe and store it\n",
    "    df = pd.DataFrame(current_dataset_metrics)\n",
    "    # print(df)\n",
    "    file_path = f\"{dataset_directory}/metrics_of_all_experiments.xlsx\"\n",
    "    df.to_excel(file_path, index=False, engine='openpyxl')\n",
    "\n",
    "    # apply conditional formatting to last 3 columns (because they contain the metric values). \n",
    "    # This section of code came from AI assistant: https://chatgpt.com/share/67a8fb48-ae30-800b-b9c4-44caa979d630\n",
    "    # Load the workbook and the active sheet\n",
    "    wb = load_workbook(file_path)\n",
    "    ws = wb.active\n",
    "    \n",
    "    # Columns to apply formatting (assumes last 3 columns are numeric metrics)\n",
    "    columns = [ws.cell(row=1, column=i+1).column_letter for i in range(len(df.columns)-4, len(df.columns))]\n",
    "    \n",
    "    for col in columns:\n",
    "        ws.conditional_formatting.add(\n",
    "            f\"{col}2:{col}{len(df)+1}\",\n",
    "            ColorScaleRule(start_type=\"min\", start_color=\"00FF00\",  # Green\n",
    "                           mid_type=\"percentile\", mid_value=50, mid_color=\"FFFF00\",  # Yellow\n",
    "                           end_type=\"max\", end_color=\"FF0000\")  # Red\n",
    "        )\n",
    "\n",
    "    # Add outher border each 3 rows\n",
    "    # Define border style\n",
    "    thick_border = Border(\n",
    "        left=Side(style='thick'),\n",
    "        right=Side(style='thick'),\n",
    "        top=Side(style='thick'),\n",
    "        bottom=Side(style='thick')\n",
    "    )\n",
    "    \n",
    "    # Apply outer border for each group of 3 rows\n",
    "    for i in range(2, len(df) + 2, 3):\n",
    "        for col in range(1, len(df.columns) + 1):\n",
    "            ws.cell(row=i, column=col).border = Border(top=thick_border.top, left=thick_border.left, right=thick_border.right)\n",
    "            ws.cell(row=i+1, column=col).border = Border(left=thick_border.left, right=thick_border.right)\n",
    "            ws.cell(row=i+2, column=col).border = Border(bottom=thick_border.bottom, left=thick_border.left, right=thick_border.right)\n",
    "\n",
    "    # Adjust column widths based on content length\n",
    "    for col in ws.columns:\n",
    "        max_length = 0\n",
    "        col_letter = col[0].column_letter\n",
    "        for cell in col:\n",
    "            try:\n",
    "                if cell.value:\n",
    "                    max_length = max(max_length, len(str(cell.value)))\n",
    "            except:\n",
    "                pass\n",
    "        ws.column_dimensions[col_letter].width = max_length + 2  # Add some padding\n",
    "    \n",
    "    # Save the modified workbook\n",
    "    wb.save(file_path)"
   ]
  },
  {
   "cell_type": "code",
   "execution_count": null,
   "id": "4aff74f2-367b-4134-a2a0-882d7c0551cc",
   "metadata": {
    "scrolled": true
   },
   "outputs": [],
   "source": [
    "# Get latex string\n",
    "\n",
    "# remove the name of the model from the experiment setting, to make the column values shorter\n",
    "df[\"Experiment settings\"] = df[\"Experiment settings\"].str.replace(\", TransformerModel=TSTransformerEncoderClassiregressor\", \"\", regex=False)\n",
    "df[\"Experiment settings\"] = df[\"Experiment settings\"].str.replace(\", TransfomerModel=TSTransformerEncoderClassiregressor\", \"\", regex=False)\n",
    "\n",
    "# Convert to LaTeX string\n",
    "latex_code = df.to_latex(\n",
    "    index=False,        # Don’t include the DataFrame index\n",
    "    columns=[\"Experiment settings\", \"Model\", \"RMSE (Validation set)\"], # remove columns that are not important for the report\n",
    "    longtable=True,     # Tells pandas to use \\begin{longtable} instead of \\begin{tabular}\n",
    "    na_rep=\"-\",         # How to display NaNs or missing data\n",
    "    column_format='p{5cm} | c | c',\n",
    "    \n",
    "    caption=\"Metrics of TSTransformerEncoderClassiregressor\",\n",
    "    label=\"tab:metrics-ts-transformer-encoder-classiregressor\",                 # LaTeX label for cross-referencing\n",
    ")\n",
    "\n",
    "with open(f\"{dataset_directory}/metrics_of_all_experiments.tex\", \"w\", encoding=\"utf-8\") as f:\n",
    "    f.write(latex_code)\n",
    "\n",
    "# print(latex_code)"
   ]
  },
  {
   "cell_type": "code",
   "execution_count": null,
   "id": "fbf2fcd4-427f-4e64-b88f-8e0397da46fb",
   "metadata": {},
   "outputs": [],
   "source": []
  }
 ],
 "metadata": {
  "kernelspec": {
   "display_name": "Python 3 (ipykernel)",
   "language": "python",
   "name": "python3"
  },
  "language_info": {
   "codemirror_mode": {
    "name": "ipython",
    "version": 3
   },
   "file_extension": ".py",
   "mimetype": "text/x-python",
   "name": "python",
   "nbconvert_exporter": "python",
   "pygments_lexer": "ipython3",
   "version": "3.9.21"
  }
 },
 "nbformat": 4,
 "nbformat_minor": 5
}
