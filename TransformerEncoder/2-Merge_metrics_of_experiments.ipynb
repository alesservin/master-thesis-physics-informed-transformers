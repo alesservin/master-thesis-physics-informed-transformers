{
 "cells": [
  {
   "cell_type": "code",
   "execution_count": 1,
   "id": "2a498f2a-74f8-4494-b53d-e252f7540abf",
   "metadata": {
    "editable": true,
    "slideshow": {
     "slide_type": ""
    },
    "tags": []
   },
   "outputs": [],
   "source": [
    "import pandas as pd\n",
    "import os\n",
    "import json\n",
    "from openpyxl import load_workbook\n",
    "from openpyxl.formatting.rule import ColorScaleRule\n",
    "from openpyxl.styles import Border, Side"
   ]
  },
  {
   "cell_type": "code",
   "execution_count": 2,
   "id": "5ac4a98e-7fe9-4852-93c0-ffd088249d27",
   "metadata": {},
   "outputs": [],
   "source": [
    "# !pip install openpyxl"
   ]
  },
  {
   "cell_type": "code",
   "execution_count": null,
   "id": "59a17791-2f8f-4184-8644-52562ab538d1",
   "metadata": {},
   "outputs": [],
   "source": [
    "def list_directories(path):\n",
    "    directories = [f\"{path}/{d}\" for d in os.listdir(path) if os.path.isdir(os.path.join(path, d)) \n",
    "                   and \".ipynb_checkpoints\" not in d]\n",
    "    return directories"
   ]
  },
  {
   "cell_type": "markdown",
   "id": "b2a3dff7-1396-4ac8-b4e4-f13cd068c17d",
   "metadata": {},
   "source": [
    "# Get List of experiments for each dataset"
   ]
  },
  {
   "cell_type": "code",
   "execution_count": 4,
   "id": "952a885b-7d05-42d2-91ca-5fc92598dc7f",
   "metadata": {},
   "outputs": [],
   "source": [
    "results_dataset_paths = [\"results\"]"
   ]
  },
  {
   "cell_type": "code",
   "execution_count": 5,
   "id": "1e916b0b-dc37-4b01-b23a-2d68c96921b2",
   "metadata": {
    "editable": true,
    "slideshow": {
     "slide_type": ""
    },
    "tags": []
   },
   "outputs": [
    {
     "data": {
      "text/plain": [
       "{'results': ['results/1-Data Loss + Physics Loss, lambda=0.5, Lr=0.0001, epochs=100, dropout=0.1',\n",
       "  'results/10-Delta approach, Lr=1e-05, epochs=100, dropout=0.2',\n",
       "  'results/11-Delta approach, Lr=1e-05, epochs=200, dropout=0.1',\n",
       "  'results/2-Data Loss + Physics Loss, lambda=0.5, Lr=0.0001, epochs=100, dropout=0.25',\n",
       "  'results/3-Data Loss + Physics Loss, lambda=10, Lr=0.0001, epochs=100, dropout=0.1',\n",
       "  'results/4-Data Loss + Physics Loss, lambda=10, Lr=0.0001, epochs=100, dropout=0.25',\n",
       "  'results/5-Delta approach, Lr=0.0001, epochs=100, dropout=0.1',\n",
       "  'results/6-Delta approach, Lr=0.0001, epochs=100, dropout=0.2',\n",
       "  'results/7-Delta approach, Lr=0.001, epochs=100, dropout=0.1',\n",
       "  'results/8-Delta approach, Lr=0.001, epochs=100, dropout=0.2',\n",
       "  'results/9-Delta approach, Lr=1e-05, epochs=100, dropout=0.1']}"
      ]
     },
     "execution_count": 5,
     "metadata": {},
     "output_type": "execute_result"
    }
   ],
   "source": [
    "experiments_paths_by_dataset = {}\n",
    "\n",
    "for dataset_path in results_dataset_paths:\n",
    "    experiments_paths_by_dataset[dataset_path] = list_directories(dataset_path)\n",
    "experiments_paths_by_dataset"
   ]
  },
  {
   "cell_type": "code",
   "execution_count": null,
   "id": "df557789-fdb2-477f-a913-a5c66c115bea",
   "metadata": {},
   "outputs": [],
   "source": []
  },
  {
   "cell_type": "markdown",
   "id": "1f54d302-c65c-4831-a162-5a8c2b4b73f3",
   "metadata": {},
   "source": [
    "# Get metrics of each model in each experiment in each dataset result"
   ]
  },
  {
   "cell_type": "code",
   "execution_count": 6,
   "id": "fcd0f974-6ac5-4655-a85c-707fa277cbd3",
   "metadata": {
    "editable": true,
    "slideshow": {
     "slide_type": ""
    },
    "tags": []
   },
   "outputs": [
    {
     "name": "stdout",
     "output_type": "stream",
     "text": [
      "{'results': [{'Experiment settings': '1-Data Loss + Physics Loss, lambda=0.5, Lr=0.0001, epochs=100, dropout=0.1', 'Model': 'Physics', 'RMSE (Validation set)': 0.11910554282367229, 'RMSE': 0.12949894797056913, 'MSE': 0.019650885567534714, 'MAE': 0.1131453599780798}, {'Experiment settings': '1-Data Loss + Physics Loss, lambda=0.5, Lr=0.0001, epochs=100, dropout=0.1', 'Model': 'Physics-and-Transformer', 'RMSE (Validation set)': 0.1627283997833729, 'RMSE': 0.2840119659900665, 'MSE': 0.09821933070197701, 'MAE': 0.2529686190187931}, {'Experiment settings': '1-Data Loss + Physics Loss, lambda=0.5, Lr=0.0001, epochs=100, dropout=0.1', 'Model': 'Transformer', 'RMSE (Validation set)': 0.13039994947612285, 'RMSE': 0.15696772374212742, 'MSE': 0.05124309260863811, 'MAE': 0.13692331463098525}, {'Experiment settings': '10-Delta approach, Lr=1e-05, epochs=100, dropout=0.2', 'Model': 'Physics', 'RMSE (Validation set)': 0.11910554282367229, 'RMSE': 0.12949894797056913, 'MSE': 0.019650885567534714, 'MAE': 0.1131453599780798}, {'Experiment settings': '10-Delta approach, Lr=1e-05, epochs=100, dropout=0.2', 'Model': 'Physics-and-Transformer', 'RMSE (Validation set)': 0.03139727665111423, 'RMSE': 0.023217131663113833, 'MSE': 0.0006964387612242717, 'MAE': 0.01934728091582656}, {'Experiment settings': '10-Delta approach, Lr=1e-05, epochs=100, dropout=0.2', 'Model': 'Transformer', 'RMSE (Validation set)': 0.16679349541664124, 'RMSE': 0.17557296864688396, 'MSE': 0.05332711662631482, 'MAE': 0.15380666982382535}, {'Experiment settings': '11-Delta approach, Lr=1e-05, epochs=200, dropout=0.1', 'Model': 'Physics', 'RMSE (Validation set)': 0.11910554282367229, 'RMSE': 0.12949894797056913, 'MSE': 0.019650885567534714, 'MAE': 0.1131453599780798}, {'Experiment settings': '11-Delta approach, Lr=1e-05, epochs=200, dropout=0.1', 'Model': 'Physics-and-Transformer', 'RMSE (Validation set)': 0.02817684570327401, 'RMSE': 0.0205226544290781, 'MSE': 0.0006252197519643233, 'MAE': 0.017185387574136256}, {'Experiment settings': '11-Delta approach, Lr=1e-05, epochs=200, dropout=0.1', 'Model': 'Transformer', 'RMSE (Validation set)': 0.1479445993900299, 'RMSE': 0.15140811055898667, 'MSE': 0.05753539359429851, 'MAE': 0.1313514482229948}, {'Experiment settings': '2-Data Loss + Physics Loss, lambda=0.5, Lr=0.0001, epochs=100, dropout=0.25', 'Model': 'Physics', 'RMSE (Validation set)': 0.11910554282367229, 'RMSE': 0.12949894797056913, 'MSE': 0.019650885567534714, 'MAE': 0.1131453599780798}, {'Experiment settings': '2-Data Loss + Physics Loss, lambda=0.5, Lr=0.0001, epochs=100, dropout=0.25', 'Model': 'Physics-and-Transformer', 'RMSE (Validation set)': 0.12579510249197484, 'RMSE': 0.26980230733752253, 'MSE': 0.09866149462759495, 'MAE': 0.23802705779671668}, {'Experiment settings': '2-Data Loss + Physics Loss, lambda=0.5, Lr=0.0001, epochs=100, dropout=0.25', 'Model': 'Transformer', 'RMSE (Validation set)': 0.17062405720353127, 'RMSE': 0.17679337076842785, 'MSE': 0.05183826567372307, 'MAE': 0.15458480305969716}, {'Experiment settings': '3-Data Loss + Physics Loss, lambda=10, Lr=0.0001, epochs=100, dropout=0.1', 'Model': 'Physics', 'RMSE (Validation set)': 0.11910554282367229, 'RMSE': 0.12949894797056913, 'MSE': 0.019650885567534714, 'MAE': 0.1131453599780798}, {'Experiment settings': '3-Data Loss + Physics Loss, lambda=10, Lr=0.0001, epochs=100, dropout=0.1', 'Model': 'Physics-and-Transformer', 'RMSE (Validation set)': 0.17787666320800782, 'RMSE': 2.2627570807933806, 'MSE': 0.9192760579288006, 'MAE': 2.043314290046692}, {'Experiment settings': '3-Data Loss + Physics Loss, lambda=10, Lr=0.0001, epochs=100, dropout=0.1', 'Model': 'Transformer', 'RMSE (Validation set)': 0.13039994947612285, 'RMSE': 0.15696772374212742, 'MSE': 0.05124309260863811, 'MAE': 0.13692331463098525}, {'Experiment settings': '4-Data Loss + Physics Loss, lambda=10, Lr=0.0001, epochs=100, dropout=0.25', 'Model': 'Physics', 'RMSE (Validation set)': 0.11910554282367229, 'RMSE': 0.12949894797056913, 'MSE': 0.019650885567534714, 'MAE': 0.1131453599780798}, {'Experiment settings': '4-Data Loss + Physics Loss, lambda=10, Lr=0.0001, epochs=100, dropout=0.25', 'Model': 'Physics-and-Transformer', 'RMSE (Validation set)': 0.17661319822072982, 'RMSE': 2.3147814333438874, 'MSE': 0.9305508270859718, 'MAE': 2.08143150806427}, {'Experiment settings': '4-Data Loss + Physics Loss, lambda=10, Lr=0.0001, epochs=100, dropout=0.25', 'Model': 'Transformer', 'RMSE (Validation set)': 0.17062405720353127, 'RMSE': 0.17679337076842785, 'MSE': 0.05183826567372307, 'MAE': 0.15458480305969716}, {'Experiment settings': '5-Delta approach, Lr=0.0001, epochs=100, dropout=0.1', 'Model': 'Physics', 'RMSE (Validation set)': 0.11910554282367229, 'RMSE': 0.12949894797056913, 'MSE': 0.019650885567534714, 'MAE': 0.1131453599780798}, {'Experiment settings': '5-Delta approach, Lr=0.0001, epochs=100, dropout=0.1', 'Model': 'Physics-and-Transformer', 'RMSE (Validation set)': 0.02881143316626549, 'RMSE': 0.023524278495460748, 'MSE': 0.0008357080732821487, 'MAE': 0.02006017928943038}, {'Experiment settings': '5-Delta approach, Lr=0.0001, epochs=100, dropout=0.1', 'Model': 'Transformer', 'RMSE (Validation set)': 0.13039994947612285, 'RMSE': 0.15696772374212742, 'MSE': 0.05124309260863811, 'MAE': 0.13692331463098525}, {'Experiment settings': '6-Delta approach, Lr=0.0001, epochs=100, dropout=0.2', 'Model': 'Physics', 'RMSE (Validation set)': 0.11910554282367229, 'RMSE': 0.12949894797056913, 'MSE': 0.019650885567534714, 'MAE': 0.1131453599780798}, {'Experiment settings': '6-Delta approach, Lr=0.0001, epochs=100, dropout=0.2', 'Model': 'Physics-and-Transformer', 'RMSE (Validation set)': 0.02953040776774287, 'RMSE': 0.025414137914776803, 'MSE': 0.0009606520223314873, 'MAE': 0.02219778341241181}, {'Experiment settings': '6-Delta approach, Lr=0.0001, epochs=100, dropout=0.2', 'Model': 'Transformer', 'RMSE (Validation set)': 0.14194197356700897, 'RMSE': 0.15829568766057492, 'MSE': 0.06325334664434194, 'MAE': 0.13932571541517974}, {'Experiment settings': '7-Delta approach, Lr=0.001, epochs=100, dropout=0.1', 'Model': 'Physics', 'RMSE (Validation set)': 0.11910554282367229, 'RMSE': 0.12949894797056913, 'MSE': 0.019650885567534714, 'MAE': 0.1131453599780798}, {'Experiment settings': '7-Delta approach, Lr=0.001, epochs=100, dropout=0.1', 'Model': 'Physics-and-Transformer', 'RMSE (Validation set)': 0.02481494056992233, 'RMSE': 0.022073961328715086, 'MSE': 0.0006459901254856959, 'MAE': 0.018888345174491405}, {'Experiment settings': '7-Delta approach, Lr=0.001, epochs=100, dropout=0.1', 'Model': 'Transformer', 'RMSE (Validation set)': 0.1779262825846672, 'RMSE': 0.18683004938066006, 'MSE': 0.09652277382556348, 'MAE': 0.16821361929178238}, {'Experiment settings': '8-Delta approach, Lr=0.001, epochs=100, dropout=0.2', 'Model': 'Physics', 'RMSE (Validation set)': 0.11910554282367229, 'RMSE': 0.12949894797056913, 'MSE': 0.019650885567534714, 'MAE': 0.1131453599780798}, {'Experiment settings': '8-Delta approach, Lr=0.001, epochs=100, dropout=0.2', 'Model': 'Physics-and-Transformer', 'RMSE (Validation set)': 0.026076879259198903, 'RMSE': 0.026842782367020847, 'MSE': 0.0009563752406393178, 'MAE': 0.02260915203951299}, {'Experiment settings': '8-Delta approach, Lr=0.001, epochs=100, dropout=0.2', 'Model': 'Transformer', 'RMSE (Validation set)': 0.17713643312454225, 'RMSE': 0.19640365801751614, 'MSE': 0.09272719121072441, 'MAE': 0.17436131108552216}, {'Experiment settings': '9-Delta approach, Lr=1e-05, epochs=100, dropout=0.1', 'Model': 'Physics', 'RMSE (Validation set)': 0.11910554282367229, 'RMSE': 0.12949894797056913, 'MSE': 0.019650885567534714, 'MAE': 0.1131453599780798}, {'Experiment settings': '9-Delta approach, Lr=1e-05, epochs=100, dropout=0.1', 'Model': 'Physics-and-Transformer', 'RMSE (Validation set)': 0.03066038340330124, 'RMSE': 0.02155406689271331, 'MSE': 0.0006402748032996897, 'MAE': 0.01788231460377574}, {'Experiment settings': '9-Delta approach, Lr=1e-05, epochs=100, dropout=0.1', 'Model': 'Transformer', 'RMSE (Validation set)': 0.17288946323096752, 'RMSE': 0.16966173686087133, 'MSE': 0.057241670100484046, 'MAE': 0.14968868270516394}]}\n"
     ]
    }
   ],
   "source": [
    "all_datasets_metrics = {}\n",
    "for dataset_path in experiments_paths_by_dataset.keys():\n",
    "    dataset_results_metrics = []\n",
    "    for experiment_path in experiments_paths_by_dataset[dataset_path]:\n",
    "        # get all models in the experiment\n",
    "        models_paths = list_directories(experiment_path)\n",
    "        \n",
    "        # iterate over models paths and get their metrics\n",
    "        for model_path in models_paths:\n",
    "            # open json file with metrics\n",
    "            metrics_filepath = f\"{model_path}/metrics.json\"\n",
    "            with open(metrics_filepath, 'r', encoding='utf-8') as file:\n",
    "                metrics = json.load(file)    \n",
    "\n",
    "            metrics_to_store = {\n",
    "                \"Experiment settings\": experiment_path.split(\"/\")[-1],\n",
    "                \"Model\": metrics_filepath.split(\"/\")[-2],\n",
    "                \"RMSE (Validation set)\": metrics[\"validation set RMSE\"],\n",
    "                \"RMSE\": metrics['test set loss (RMSE)'],\n",
    "                \"MSE\": metrics['test set loss (MSE)'],\n",
    "                \"MAE\": metrics['test set loss (MAE)'],\n",
    "            }\n",
    "\n",
    "            dataset_results_metrics.append(metrics_to_store)\n",
    "\n",
    "    # store metrics of all experiments for the current dataset\n",
    "    all_datasets_metrics[dataset_path] = dataset_results_metrics\n",
    "print(all_datasets_metrics)"
   ]
  },
  {
   "cell_type": "code",
   "execution_count": null,
   "id": "10139616-cd1f-486c-8eb2-0ba3b2d519a0",
   "metadata": {},
   "outputs": [],
   "source": []
  },
  {
   "cell_type": "markdown",
   "id": "02058875-423b-40bd-bc2b-4dfdf0087c03",
   "metadata": {},
   "source": [
    "# Store metrics of all experiments in the corresponding dataset result directory"
   ]
  },
  {
   "cell_type": "code",
   "execution_count": 7,
   "id": "20916696-30a6-4d93-994a-bbed489e47fd",
   "metadata": {},
   "outputs": [],
   "source": [
    "for dataset_directory in all_datasets_metrics.keys():\n",
    "    current_dataset_metrics = all_datasets_metrics[dataset_directory]\n",
    "\n",
    "    # transform current dataset metrics to dataframe and store it\n",
    "    df = pd.DataFrame(current_dataset_metrics)\n",
    "    # print(df)\n",
    "    file_path = f\"{dataset_directory}/metrics_of_all_experiments.xlsx\"\n",
    "    df.to_excel(file_path, index=False, engine='openpyxl')\n",
    "\n",
    "    # apply conditional formatting to last 3 columns (because they contain the metric values). \n",
    "    # This section of code came from AI assistant: https://chatgpt.com/share/67a8fb48-ae30-800b-b9c4-44caa979d630\n",
    "    # Load the workbook and the active sheet\n",
    "    wb = load_workbook(file_path)\n",
    "    ws = wb.active\n",
    "    \n",
    "    # Columns to apply formatting (assumes last 3 columns are numeric metrics)\n",
    "    columns = [ws.cell(row=1, column=i+1).column_letter for i in range(len(df.columns)-4, len(df.columns))]\n",
    "    \n",
    "    for col in columns:\n",
    "        ws.conditional_formatting.add(\n",
    "            f\"{col}2:{col}{len(df)+1}\",\n",
    "            ColorScaleRule(start_type=\"min\", start_color=\"00FF00\",  # Green\n",
    "                           mid_type=\"percentile\", mid_value=50, mid_color=\"FFFF00\",  # Yellow\n",
    "                           end_type=\"max\", end_color=\"FF0000\")  # Red\n",
    "        )\n",
    "\n",
    "    # Add outher border each 3 rows\n",
    "    # Define border style\n",
    "    thick_border = Border(\n",
    "        left=Side(style='thick'),\n",
    "        right=Side(style='thick'),\n",
    "        top=Side(style='thick'),\n",
    "        bottom=Side(style='thick')\n",
    "    )\n",
    "    \n",
    "    # Apply outer border for each group of 3 rows\n",
    "    for i in range(2, len(df) + 2, 3):\n",
    "        for col in range(1, len(df.columns) + 1):\n",
    "            ws.cell(row=i, column=col).border = Border(top=thick_border.top, left=thick_border.left, right=thick_border.right)\n",
    "            ws.cell(row=i+1, column=col).border = Border(left=thick_border.left, right=thick_border.right)\n",
    "            ws.cell(row=i+2, column=col).border = Border(bottom=thick_border.bottom, left=thick_border.left, right=thick_border.right)\n",
    "\n",
    "    # Adjust column widths based on content length\n",
    "    for col in ws.columns:\n",
    "        max_length = 0\n",
    "        col_letter = col[0].column_letter\n",
    "        for cell in col:\n",
    "            try:\n",
    "                if cell.value:\n",
    "                    max_length = max(max_length, len(str(cell.value)))\n",
    "            except:\n",
    "                pass\n",
    "        ws.column_dimensions[col_letter].width = max_length + 2  # Add some padding\n",
    "    \n",
    "    # Save the modified workbook\n",
    "    wb.save(file_path)"
   ]
  },
  {
   "cell_type": "code",
   "execution_count": 8,
   "id": "4aff74f2-367b-4134-a2a0-882d7c0551cc",
   "metadata": {
    "scrolled": true
   },
   "outputs": [],
   "source": [
    "# Get latex string\n",
    "\n",
    "# Convert to LaTeX string\n",
    "latex_code = df.to_latex(\n",
    "    index=False,        # Don’t include the DataFrame index\n",
    "    escape = True,\n",
    "    columns=[\"Experiment settings\", \"Model\", \"RMSE (Validation set)\"], # remove columns that are not important for the report\n",
    "    longtable=True,     # Tells pandas to use \\begin{longtable} instead of \\begin{tabular}\n",
    "    na_rep=\"-\",         # How to display NaNs or missing data\n",
    "    column_format='p{5cm} | c | c',\n",
    "    \n",
    "    caption=\"Metrics of Transformer-Encoder\",\n",
    "    label=\"tab:metrics-transformer-encoder\",                 # LaTeX label for cross-referencing\n",
    ")\n",
    "\n",
    "with open(f\"{dataset_directory}/metrics_of_all_experiments.tex\", \"w\", encoding=\"utf-8\") as f:\n",
    "    f.write(latex_code)\n",
    "\n",
    "# print(latex_code)"
   ]
  },
  {
   "cell_type": "code",
   "execution_count": null,
   "id": "fbf2fcd4-427f-4e64-b88f-8e0397da46fb",
   "metadata": {},
   "outputs": [],
   "source": []
  }
 ],
 "metadata": {
  "kernelspec": {
   "display_name": "Python 3 (ipykernel)",
   "language": "python",
   "name": "python3"
  },
  "language_info": {
   "codemirror_mode": {
    "name": "ipython",
    "version": 3
   },
   "file_extension": ".py",
   "mimetype": "text/x-python",
   "name": "python",
   "nbconvert_exporter": "python",
   "pygments_lexer": "ipython3",
   "version": "3.9.21"
  }
 },
 "nbformat": 4,
 "nbformat_minor": 5
}
